{
 "cells": [
  {
   "cell_type": "code",
   "execution_count": 131,
   "metadata": {},
   "outputs": [],
   "source": [
    "%matplotlib inline\n",
    "\n",
    "import requests\n",
    "import statsmodels.api as sm\n",
    "import matplotlib.pyplot as plt\n",
    "from tenacity import retry, stop_after_attempt, wait_fixed, wait_random, wait_random_exponential\n",
    "import concurrent.futures\n",
    "import csv\n",
    "import logging\n",
    "\n",
    "logging.basicConfig(format='%(asctime)s  %(message)s', datefmt='%y-%m-%d %H:%M:%S', level=logging.INFO)"
   ]
  },
  {
   "attachments": {},
   "cell_type": "markdown",
   "metadata": {},
   "source": [
    "# United Nations Statistics Division SDG API\n",
    "\n",
    "[**API Documentation**](https://unstats.un.org/sdgapi/swagger/#!/Series/V1SdgSeriesBySeriesCodeGeoAreaByGeoAreaCodeDataSliceGet)\n",
    "\n",
    "## 1. Familiarizing with the API\n",
    "\n",
    "Tasks:\n",
    "\n",
    "1. Request the data for **proportion of seats held by woman in national parliaments** (seriesCode=SG_GEN_PARL) for **Switzerland** (geoAreaCode=756) from the API using the `requests` module.\n",
    "2. Create two lists *x* and *y* that contain the *year* and the *proportion of seats held by woman* respectively (make sure that the dict contain numbers).\n",
    "3. Plot the data on a scatterplot with `matplotlib`.\n",
    "4. Use `statsmodels` to perform an [OLS regression](https://www.statsmodels.org/dev/examples/notebooks/generated/ols.html) of the data.\n",
    "5. Create a second scatter plot that also contains the regression line."
   ]
  },
  {
   "cell_type": "code",
   "execution_count": 132,
   "metadata": {},
   "outputs": [],
   "source": [
    "response = requests.get(...)\n",
    "# response.status_code\n",
    "# response.headers\n",
    "# response.content\n",
    "# response.json()"
   ]
  },
  {
   "cell_type": "code",
   "execution_count": 133,
   "metadata": {},
   "outputs": [],
   "source": []
  },
  {
   "cell_type": "code",
   "execution_count": null,
   "metadata": {},
   "outputs": [],
   "source": []
  },
  {
   "cell_type": "code",
   "execution_count": null,
   "metadata": {},
   "outputs": [],
   "source": []
  },
  {
   "cell_type": "code",
   "execution_count": null,
   "metadata": {},
   "outputs": [],
   "source": []
  },
  {
   "attachments": {},
   "cell_type": "markdown",
   "metadata": {},
   "source": [
    "## 2. Parallelizing API requests\n",
    "\n",
    "API request normally come along with a comparably high latency and therefore are I/O bound. The same is true for web scraping, which is basically equivalent to API calls.\n",
    "\n",
    "Tasks:\n",
    "1. Write a function that takes a geoAreaCode and obtains the data for the *proportion of seats held by woman in national parliaments* (seriesCode=SG_GEN_PARL) \n",
    "2. Use `concurrent.futures` to parallelize API request (adapt [this example](https://docs.python.org/3/library/concurrent.futures.html#threadpoolexecutor-example)) so that you can obtain data for the geoAreaCodes below in parallel.\n",
    "3. Write the data that you got from the API to a csv file with the following columns: **geoAreaCode**, **response_json**\n",
    "4. Calculate the size of your speedup obtained by multithreading."
   ]
  },
  {
   "cell_type": "code",
   "execution_count": 137,
   "metadata": {},
   "outputs": [],
   "source": [
    "# all 248 countries/areas\n",
    "geoAreaCodes = [4, 8, 12, 16, 20, 24, 28, 31, 32, 36, 40, 44, 48, 50, 51, 52, 56, 60, 64, 68, 70, 72, 74, 76, 84, 86, \n",
    "                90, 92, 96, 100, 104, 108, 112, 116, 120, 124, 132, 136, 140, 144, 148, 152, 156, 162, 166, 170, 174, \n",
    "                175, 178, 180, 184, 188, 191, 192, 196, 203, 204, 208, 212, 214, 218, 222, 226, 231, 232, 233, 234, 238, \n",
    "                239, 242, 246, 248, 250, 254, 258, 260, 262, 266, 268, 270, 275, 276, 288, 292, 296, 300, 304, 308, 312, \n",
    "                316, 320, 324, 328, 332, 334, 336, 340, 344, 348, 352, 356, 360, 364, 368, 372, 376, 380, 384, 388, 392, \n",
    "                398, 400, 404, 408, 410, 414, 417, 418, 422, 426, 428, 430, 434, 438, 440, 442, 446, 450, 454, 458, 462, \n",
    "                466, 470, 474, 478, 480, 484, 492, 496, 498, 499, 500, 504, 508, 512, 516, 520, 524, 528, 531, 533, 534, \n",
    "                535, 540, 548, 554, 558, 562, 566, 570, 574, 578, 580, 581, 583, 584, 585, 586, 591, 598, 600, 604, 608, \n",
    "                612, 616, 620, 624, 626, 630, 634, 638, 642, 643, 646, 652, 654, 659, 660, 662, 663, 666, 670, 674, 678, \n",
    "                680, 682, 686, 688, 690, 694, 702, 703, 704, 705, 706, 710, 716, 724, 728, 729, 732, 740, 744, 748, 752, \n",
    "                756, 760, 762, 764, 768, 772, 776, 780, 784, 788, 792, 795, 796, 798, 800, 804, 807, 818, 826, 831, 832, \n",
    "                833, 834, 840, 850, 854, 858, 860, 862, 876, 882, 887, 894]"
   ]
  },
  {
   "attachments": {},
   "cell_type": "markdown",
   "metadata": {},
   "source": [
    "**Gimmick**: You can uncomment and use the @retry decorator to automatically retry in case your internet connection breaks or the API is unresponsive for a moment. This way your script won't break because of these reasons."
   ]
  },
  {
   "cell_type": "code",
   "execution_count": 138,
   "metadata": {},
   "outputs": [],
   "source": [
    "@retry(stop=stop_after_attempt(4), wait=wait_random_exponential(multiplier=4,max=60))\n",
    "def load_SG_GEN_PARL(geoAreaCode):\n",
    "    ...\n",
    "    return response.json()"
   ]
  },
  {
   "cell_type": "code",
   "execution_count": null,
   "metadata": {},
   "outputs": [],
   "source": []
  },
  {
   "cell_type": "code",
   "execution_count": 130,
   "metadata": {},
   "outputs": [],
   "source": [
    "header = ['geoAreaCode', 'response_json']\n",
    "\n",
    "with open('api_responses.csv', 'w', newline='') as f:\n",
    "    writer = csv.writer(f)\n",
    "    writer.writerow(header)\n",
    "    rows = ...\n",
    "    writer.writerows(rows)"
   ]
  },
  {
   "attachments": {},
   "cell_type": "markdown",
   "metadata": {},
   "source": []
  }
 ],
 "metadata": {
  "kernelspec": {
   "display_name": "sdg_data_gaps-aDJZvRXZ",
   "language": "python",
   "name": "python3"
  },
  "language_info": {
   "codemirror_mode": {
    "name": "ipython",
    "version": 3
   },
   "file_extension": ".py",
   "mimetype": "text/x-python",
   "name": "python",
   "nbconvert_exporter": "python",
   "pygments_lexer": "ipython3",
   "version": "3.8.16"
  },
  "orig_nbformat": 4
 },
 "nbformat": 4,
 "nbformat_minor": 2
}
