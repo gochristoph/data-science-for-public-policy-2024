{
 "cells": [
  {
   "cell_type": "code",
   "execution_count": 7,
   "metadata": {},
   "outputs": [],
   "source": [
    "from dash import Dash, html, dcc, callback, Output, Input\n",
    "import plotly.express as px\n",
    "import requests\n",
    "import pandas as pd"
   ]
  },
  {
   "attachments": {},
   "cell_type": "markdown",
   "metadata": {},
   "source": [
    "\n",
    "## TASK 1\n",
    "Write a fucntion that loads series **SG_GEN_PARL** from the UN SDG API and returns a pandas dataframe with the two columns **year** and **prop_seats_women**. The input is **geoAreaCode**.\n",
    "\n",
    "* API documentation: https://unstats.un.org/sdgapi/swagger/ \n",
    "* Relevant notebook from lecture 4: https://github.com/gochristoph/big-data-for-public-policy-2023/blob/main/lecture_04/lecture_4_with_solutions.ipynb"
   ]
  },
  {
   "cell_type": "code",
   "execution_count": 8,
   "metadata": {},
   "outputs": [],
   "source": [
    "def load_SG_GEN_PARL(geoAreaCode):\n",
    "    assert isinstance(geoAreaCode, int)\n",
    "    url = f'https://unstats.un.org/sdgapi/v1/sdg/Series/SG_GEN_PARL/GeoArea/{geoAreaCode}/DataSlice'\n",
    "    ...\n",
    "    return pd.DataFrame(data={'year': year, 'prop_seats_women': prop_seats_women})"
   ]
  },
  {
   "cell_type": "code",
   "execution_count": 9,
   "metadata": {},
   "outputs": [
    {
     "data": {
      "text/html": [
       "<div>\n",
       "<style scoped>\n",
       "    .dataframe tbody tr th:only-of-type {\n",
       "        vertical-align: middle;\n",
       "    }\n",
       "\n",
       "    .dataframe tbody tr th {\n",
       "        vertical-align: top;\n",
       "    }\n",
       "\n",
       "    .dataframe thead th {\n",
       "        text-align: right;\n",
       "    }\n",
       "</style>\n",
       "<table border=\"1\" class=\"dataframe\">\n",
       "  <thead>\n",
       "    <tr style=\"text-align: right;\">\n",
       "      <th></th>\n",
       "      <th>year</th>\n",
       "      <th>prop_seats_women</th>\n",
       "    </tr>\n",
       "  </thead>\n",
       "  <tbody>\n",
       "    <tr>\n",
       "      <th>0</th>\n",
       "      <td>2003</td>\n",
       "      <td>15.12</td>\n",
       "    </tr>\n",
       "    <tr>\n",
       "      <th>1</th>\n",
       "      <td>2007</td>\n",
       "      <td>17.14</td>\n",
       "    </tr>\n",
       "    <tr>\n",
       "      <th>2</th>\n",
       "      <td>2004</td>\n",
       "      <td>15.21</td>\n",
       "    </tr>\n",
       "    <tr>\n",
       "      <th>3</th>\n",
       "      <td>2005</td>\n",
       "      <td>15.91</td>\n",
       "    </tr>\n",
       "    <tr>\n",
       "      <th>4</th>\n",
       "      <td>2001</td>\n",
       "      <td>13.79</td>\n",
       "    </tr>\n",
       "  </tbody>\n",
       "</table>\n",
       "</div>"
      ],
      "text/plain": [
       "   year  prop_seats_women\n",
       "0  2003             15.12\n",
       "1  2007             17.14\n",
       "2  2004             15.21\n",
       "3  2005             15.91\n",
       "4  2001             13.79"
      ]
     },
     "metadata": {},
     "output_type": "display_data"
    }
   ],
   "source": [
    "# testing the function\n",
    "display(load_SG_GEN_PARL(1).head())"
   ]
  },
  {
   "attachments": {},
   "cell_type": "markdown",
   "metadata": {},
   "source": [
    "## TASK 2 \n",
    "\n",
    "Write a function that gets all geoAreaCodes from the UN SDG API and converts them to a valid `options` input for `dcc.Dropdown` (a list of dictionaries with the keys `label` and `value` for each dictionary in the list).\n",
    "\n",
    "For the API call, take a look at: https://unstats.un.org/sdgapi/swagger/#!/GeoArea/V1SdgGeoAreaListGet\n",
    "\n",
    "Example for context:\n",
    "\n",
    "```\n",
    "dcc.Dropdown(\n",
    "   options=[\n",
    "       {'label': 'World', 'value': 1},\n",
    "       {'label': 'Switzerland', 'value': 756},\n",
    "       ...\n",
    "   ],\n",
    "   value=1\n",
    ")\n",
    "```"
   ]
  },
  {
   "cell_type": "code",
   "execution_count": 10,
   "metadata": {},
   "outputs": [],
   "source": [
    "def load_geoArea_options():\n",
    "    url = f'https://unstats.un.org/sdgapi/v1/sdg/GeoArea/List'\n",
    "    response = requests.get(url)\n",
    "    options = response.json()\n",
    "    ...\n",
    "    return options\n",
    "\n",
    "geoArea_options = load_geoArea_options()"
   ]
  },
  {
   "cell_type": "code",
   "execution_count": 11,
   "metadata": {},
   "outputs": [
    {
     "data": {
      "text/plain": [
       "[{'label': 'Afghanistan', 'value': '4'},\n",
       " {'label': 'Åland Islands', 'value': '248'},\n",
       " {'label': 'Albania', 'value': '8'},\n",
       " {'label': 'Algeria', 'value': '12'},\n",
       " {'label': 'American Samoa', 'value': '16'},\n",
       " {'label': 'Andorra', 'value': '20'},\n",
       " {'label': 'Angola', 'value': '24'},\n",
       " {'label': 'Anguilla', 'value': '660'},\n",
       " {'label': 'Antarctica', 'value': '10'},\n",
       " {'label': 'Antigua and Barbuda', 'value': '28'}]"
      ]
     },
     "execution_count": 11,
     "metadata": {},
     "output_type": "execute_result"
    }
   ],
   "source": [
    "# testing the function and creating the options\n",
    "geoArea_options = load_geoArea_options()\n",
    "geoArea_options[:10]"
   ]
  },
  {
   "attachments": {},
   "cell_type": "markdown",
   "metadata": {},
   "source": [
    "## TASK 3\n",
    "Have fun an run **your own web app**!"
   ]
  },
  {
   "cell_type": "code",
   "execution_count": null,
   "metadata": {},
   "outputs": [],
   "source": [
    "app = Dash(__name__)\n",
    "\n",
    "app.layout = html.Div([\n",
    "    html.H1(children='My Dash App', style={'textAlign':'center'}),\n",
    "    dcc.Dropdown(options=geoArea_options, \n",
    "                 value='1', \n",
    "                 id='dropdown-selection'),\n",
    "    dcc.Graph(id='graph-content')\n",
    "])\n",
    "\n",
    "@callback(\n",
    "    Output('graph-content', 'figure'),\n",
    "    Input('dropdown-selection', 'value')\n",
    ")\n",
    "def update_graph(value):\n",
    "    df = load_SG_GEN_PARL(geoAreaCode=int(value))\n",
    "    return px.scatter(df, x='year', y='prop_seats_women')\n",
    "\n",
    "if __name__ == '__main__':\n",
    "    app.run_server(debug=False, port=8049, use_reloader=False)"
   ]
  }
 ],
 "metadata": {
  "kernelspec": {
   "display_name": "bdpp_session4-4xKd-C8J",
   "language": "python",
   "name": "python3"
  },
  "language_info": {
   "codemirror_mode": {
    "name": "ipython",
    "version": 3
   },
   "file_extension": ".py",
   "mimetype": "text/x-python",
   "name": "python",
   "nbconvert_exporter": "python",
   "pygments_lexer": "ipython3",
   "version": "3.9.6"
  },
  "orig_nbformat": 4
 },
 "nbformat": 4,
 "nbformat_minor": 2
}
